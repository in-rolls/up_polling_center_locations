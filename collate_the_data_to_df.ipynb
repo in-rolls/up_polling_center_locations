{
 "cells": [
  {
   "cell_type": "markdown",
   "id": "c8c1322b",
   "metadata": {},
   "source": [
    "### Collate the Data into a DF"
   ]
  },
  {
   "cell_type": "code",
   "execution_count": 1,
   "id": "27e4561d",
   "metadata": {},
   "outputs": [],
   "source": [
    "import pandas as pd\n",
    "import os"
   ]
  },
  {
   "cell_type": "code",
   "execution_count": 2,
   "id": "4d25caa8",
   "metadata": {},
   "outputs": [],
   "source": [
    "res = []\n",
    "for r, d, f in os.walk(os.getcwd()):\n",
    "    d[:] = [dirs for dirs in d if dirs not in \".ipynb_checkpoints\"]\n",
    "    for file in f:\n",
    "        if (\".ipynb\" not in file) and (\".DS_Store\" not in file) and (\".csv\" not in file):\n",
    "            res.append(pd.read_json(os.path.join(r, file)))"
   ]
  },
  {
   "cell_type": "code",
   "execution_count": 3,
   "id": "c134a04f",
   "metadata": {},
   "outputs": [],
   "source": [
    "fin_dat = pd.concat(res)"
   ]
  },
  {
   "cell_type": "code",
   "execution_count": 4,
   "id": "b41d753b",
   "metadata": {},
   "outputs": [
    {
     "data": {
      "text/html": [
       "<div>\n",
       "<style scoped>\n",
       "    .dataframe tbody tr th:only-of-type {\n",
       "        vertical-align: middle;\n",
       "    }\n",
       "\n",
       "    .dataframe tbody tr th {\n",
       "        vertical-align: top;\n",
       "    }\n",
       "\n",
       "    .dataframe thead th {\n",
       "        text-align: right;\n",
       "    }\n",
       "</style>\n",
       "<table border=\"1\" class=\"dataframe\">\n",
       "  <thead>\n",
       "    <tr style=\"text-align: right;\">\n",
       "      <th></th>\n",
       "      <th>pc_id</th>\n",
       "      <th>PCName</th>\n",
       "      <th>lat</th>\n",
       "      <th>lng</th>\n",
       "      <th>Block</th>\n",
       "      <th>GP</th>\n",
       "      <th>District</th>\n",
       "    </tr>\n",
       "  </thead>\n",
       "  <tbody>\n",
       "    <tr>\n",
       "      <th>0</th>\n",
       "      <td>23883</td>\n",
       "      <td>प्राथमिक पाठशालासीहपुर</td>\n",
       "      <td>27.0077</td>\n",
       "      <td>79.7619</td>\n",
       "      <td>कन्नौज</td>\n",
       "      <td>सीहपुर</td>\n",
       "      <td>कन्नौज</td>\n",
       "    </tr>\n",
       "    <tr>\n",
       "      <th>1</th>\n",
       "      <td>23884</td>\n",
       "      <td>प्राथमिक पाठशालापचोर</td>\n",
       "      <td>27.0175</td>\n",
       "      <td>79.7739</td>\n",
       "      <td>कन्नौज</td>\n",
       "      <td>पचोर</td>\n",
       "      <td>कन्नौज</td>\n",
       "    </tr>\n",
       "    <tr>\n",
       "      <th>2</th>\n",
       "      <td>23885</td>\n",
       "      <td>प्राथमिक पाठशालासतौरा</td>\n",
       "      <td>27.1042</td>\n",
       "      <td>79.8167</td>\n",
       "      <td>कन्नौज</td>\n",
       "      <td>सतौरा</td>\n",
       "      <td>कन्नौज</td>\n",
       "    </tr>\n",
       "    <tr>\n",
       "      <th>3</th>\n",
       "      <td>23886</td>\n",
       "      <td>प्राथमिक पाठशालागदनापुर</td>\n",
       "      <td>27.0107</td>\n",
       "      <td>79.7278</td>\n",
       "      <td>कन्नौज</td>\n",
       "      <td>गदनापुर</td>\n",
       "      <td>कन्नौज</td>\n",
       "    </tr>\n",
       "    <tr>\n",
       "      <th>4</th>\n",
       "      <td>23887</td>\n",
       "      <td>प्राथमिक पाठशालागोवा</td>\n",
       "      <td>27.0289</td>\n",
       "      <td>79.7381</td>\n",
       "      <td>कन्नौज</td>\n",
       "      <td>गोवा</td>\n",
       "      <td>कन्नौज</td>\n",
       "    </tr>\n",
       "  </tbody>\n",
       "</table>\n",
       "</div>"
      ],
      "text/plain": [
       "   pc_id                   PCName      lat      lng   Block       GP District\n",
       "0  23883   प्राथमिक पाठशालासीहपुर  27.0077  79.7619  कन्नौज   सीहपुर   कन्नौज\n",
       "1  23884     प्राथमिक पाठशालापचोर  27.0175  79.7739  कन्नौज     पचोर   कन्नौज\n",
       "2  23885    प्राथमिक पाठशालासतौरा  27.1042  79.8167  कन्नौज    सतौरा   कन्नौज\n",
       "3  23886  प्राथमिक पाठशालागदनापुर  27.0107  79.7278  कन्नौज  गदनापुर   कन्नौज\n",
       "4  23887     प्राथमिक पाठशालागोवा  27.0289  79.7381  कन्नौज     गोवा   कन्नौज"
      ]
     },
     "execution_count": 4,
     "metadata": {},
     "output_type": "execute_result"
    }
   ],
   "source": [
    "fin_dat.head()"
   ]
  },
  {
   "cell_type": "code",
   "execution_count": 5,
   "id": "dbe0cba7",
   "metadata": {},
   "outputs": [
    {
     "data": {
      "text/plain": [
       "(67484, 7)"
      ]
     },
     "execution_count": 5,
     "metadata": {},
     "output_type": "execute_result"
    }
   ],
   "source": [
    "fin_dat.shape"
   ]
  },
  {
   "cell_type": "code",
   "execution_count": 6,
   "id": "fb936981",
   "metadata": {},
   "outputs": [],
   "source": [
    "fin_dat.to_csv(\"up_polling_center_block_gp_district.csv\")"
   ]
  },
  {
   "cell_type": "code",
   "execution_count": null,
   "id": "92beae83",
   "metadata": {},
   "outputs": [],
   "source": []
  }
 ],
 "metadata": {
  "kernelspec": {
   "display_name": "Python 3 (ipykernel)",
   "language": "python",
   "name": "python3"
  },
  "language_info": {
   "codemirror_mode": {
    "name": "ipython",
    "version": 3
   },
   "file_extension": ".py",
   "mimetype": "text/x-python",
   "name": "python",
   "nbconvert_exporter": "python",
   "pygments_lexer": "ipython3",
   "version": "3.9.13"
  }
 },
 "nbformat": 4,
 "nbformat_minor": 5
}
